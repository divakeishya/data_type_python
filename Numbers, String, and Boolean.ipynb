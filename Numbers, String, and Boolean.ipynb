{
 "cells": [
  {
   "cell_type": "markdown",
   "id": "ebb12801",
   "metadata": {},
   "source": [
    "### DATA TYPE"
   ]
  },
  {
   "cell_type": "markdown",
   "id": "587f3080",
   "metadata": {},
   "source": [
    "1. Numbers (int, float, complex)"
   ]
  },
  {
   "cell_type": "code",
   "execution_count": 1,
   "id": "5f97d19c",
   "metadata": {},
   "outputs": [],
   "source": [
    "a = 50"
   ]
  },
  {
   "cell_type": "code",
   "execution_count": 2,
   "id": "ba42d0a3",
   "metadata": {},
   "outputs": [
    {
     "data": {
      "text/plain": [
       "int"
      ]
     },
     "execution_count": 2,
     "metadata": {},
     "output_type": "execute_result"
    }
   ],
   "source": [
    "type(a)"
   ]
  },
  {
   "cell_type": "code",
   "execution_count": 3,
   "id": "a6fb78ba",
   "metadata": {},
   "outputs": [],
   "source": [
    "b = 3.8 #pembedanya titik(decimal point)"
   ]
  },
  {
   "cell_type": "code",
   "execution_count": 4,
   "id": "fe002508",
   "metadata": {},
   "outputs": [
    {
     "data": {
      "text/plain": [
       "float"
      ]
     },
     "execution_count": 4,
     "metadata": {},
     "output_type": "execute_result"
    }
   ],
   "source": [
    "type(b)"
   ]
  },
  {
   "cell_type": "code",
   "execution_count": 5,
   "id": "8739691c",
   "metadata": {},
   "outputs": [],
   "source": [
    "c = 4+9j"
   ]
  },
  {
   "cell_type": "code",
   "execution_count": 6,
   "id": "f8888666",
   "metadata": {},
   "outputs": [
    {
     "data": {
      "text/plain": [
       "complex"
      ]
     },
     "execution_count": 6,
     "metadata": {},
     "output_type": "execute_result"
    }
   ],
   "source": [
    "type(c)"
   ]
  },
  {
   "cell_type": "markdown",
   "id": "40241aeb",
   "metadata": {},
   "source": [
    "2. String"
   ]
  },
  {
   "cell_type": "code",
   "execution_count": 7,
   "id": "af69f2de",
   "metadata": {},
   "outputs": [],
   "source": [
    "a = \"Data Analyst\""
   ]
  },
  {
   "cell_type": "code",
   "execution_count": 8,
   "id": "a0ba358e",
   "metadata": {},
   "outputs": [
    {
     "name": "stdout",
     "output_type": "stream",
     "text": [
      "Data Analyst\n"
     ]
    }
   ],
   "source": [
    "print(a)"
   ]
  },
  {
   "cell_type": "code",
   "execution_count": 9,
   "id": "d6012c4f",
   "metadata": {},
   "outputs": [
    {
     "data": {
      "text/plain": [
       "str"
      ]
     },
     "execution_count": 9,
     "metadata": {},
     "output_type": "execute_result"
    }
   ],
   "source": [
    "type(a)"
   ]
  },
  {
   "cell_type": "code",
   "execution_count": 15,
   "id": "68a453cd",
   "metadata": {},
   "outputs": [
    {
     "name": "stdout",
     "output_type": "stream",
     "text": [
      "Data Analyst\n"
     ]
    }
   ],
   "source": [
    "a = 'Data Analyst'\n",
    "print(a)"
   ]
  },
  {
   "cell_type": "code",
   "execution_count": 16,
   "id": "4a90e7b4",
   "metadata": {},
   "outputs": [
    {
     "name": "stdout",
     "output_type": "stream",
     "text": [
      "Data Analyst Group 3\n",
      "MyEduSolve\n",
      "Week 5 - Day 1\n",
      "Data Type\n"
     ]
    }
   ],
   "source": [
    "b = '''Data Analyst Group 3\n",
    "MyEduSolve\n",
    "Week 5 - Day 1\n",
    "Data Type'''\n",
    "print(b)"
   ]
  },
  {
   "cell_type": "code",
   "execution_count": 18,
   "id": "6cae4f39",
   "metadata": {},
   "outputs": [
    {
     "name": "stdout",
     "output_type": "stream",
     "text": [
      "Data Analyst Group 3 \n",
      "MyEduSolve \n",
      "Week 5 - Day 1 \n",
      "Data Type\n"
     ]
    }
   ],
   "source": [
    "c = 'Data Analyst Group 3 \\nMyEduSolve \\nWeek 5 - Day 1 \\nData Type'\n",
    "print(c)"
   ]
  },
  {
   "cell_type": "markdown",
   "id": "be721aa2",
   "metadata": {},
   "source": [
    "3. Boolean (true or false)"
   ]
  },
  {
   "cell_type": "code",
   "execution_count": 14,
   "id": "57b1e2ec",
   "metadata": {},
   "outputs": [
    {
     "data": {
      "text/plain": [
       "True"
      ]
     },
     "execution_count": 14,
     "metadata": {},
     "output_type": "execute_result"
    }
   ],
   "source": [
    "8 < 9"
   ]
  },
  {
   "cell_type": "code",
   "execution_count": 37,
   "id": "27053ba6",
   "metadata": {},
   "outputs": [
    {
     "data": {
      "text/plain": [
       "False"
      ]
     },
     "execution_count": 37,
     "metadata": {},
     "output_type": "execute_result"
    }
   ],
   "source": [
    "'String' == 'string'"
   ]
  },
  {
   "cell_type": "code",
   "execution_count": 12,
   "id": "896cbc2e",
   "metadata": {},
   "outputs": [
    {
     "data": {
      "text/plain": [
       "True"
      ]
     },
     "execution_count": 12,
     "metadata": {},
     "output_type": "execute_result"
    }
   ],
   "source": [
    "3 == 3"
   ]
  },
  {
   "cell_type": "code",
   "execution_count": 41,
   "id": "2ca52d9a",
   "metadata": {},
   "outputs": [
    {
     "data": {
      "text/plain": [
       "True"
      ]
     },
     "execution_count": 41,
     "metadata": {},
     "output_type": "execute_result"
    }
   ],
   "source": [
    "52 <= 57"
   ]
  },
  {
   "cell_type": "code",
   "execution_count": 39,
   "id": "36c31696",
   "metadata": {
    "scrolled": true
   },
   "outputs": [
    {
     "data": {
      "text/plain": [
       "False"
      ]
     },
     "execution_count": 39,
     "metadata": {},
     "output_type": "execute_result"
    }
   ],
   "source": [
    "7 != 7"
   ]
  }
 ],
 "metadata": {
  "kernelspec": {
   "display_name": "Python 3 (ipykernel)",
   "language": "python",
   "name": "python3"
  },
  "language_info": {
   "codemirror_mode": {
    "name": "ipython",
    "version": 3
   },
   "file_extension": ".py",
   "mimetype": "text/x-python",
   "name": "python",
   "nbconvert_exporter": "python",
   "pygments_lexer": "ipython3",
   "version": "3.9.13"
  }
 },
 "nbformat": 4,
 "nbformat_minor": 5
}
